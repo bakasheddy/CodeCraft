{
 "cells": [
  {
   "cell_type": "code",
   "execution_count": 4,
   "id": "51ec06a9",
   "metadata": {},
   "outputs": [
    {
     "name": "stdout",
     "output_type": "stream",
     "text": [
      "3\n"
     ]
    }
   ],
   "source": [
    "# all numbers occure twice except 1\n",
    "lis = [1,0,0,3,2,1,2]\n",
    "    \n",
    "def ith(x):\n",
    "    b = 0\n",
    "    for i in x:\n",
    "        b ^= i #XOR    \n",
    "    return b\n",
    "\n",
    "print(ith(lis))"
   ]
  },
  {
   "cell_type": "code",
   "execution_count": 9,
   "id": "e8fc69df",
   "metadata": {},
   "outputs": [
    {
     "name": "stdout",
     "output_type": "stream",
     "text": [
      "9 is odd\n"
     ]
    }
   ],
   "source": [
    "# if number is even or odd\n",
    "\n",
    "def evOd(x):\n",
    "    if x & 1 == 1:\n",
    "        return f'{x} is odd'\n",
    "    else:\n",
    "        return f'{x} is even'\n",
    "    \n",
    "print(evOd(9))"
   ]
  },
  {
   "cell_type": "code",
   "execution_count": 11,
   "id": "995cbbaa",
   "metadata": {},
   "outputs": [
    {
     "name": "stdout",
     "output_type": "stream",
     "text": [
      "0b10010\n",
      "0\n",
      "1\n",
      "0\n"
     ]
    }
   ],
   "source": [
    "# check if ith bit is 1 or 0\n",
    "\n",
    "def ith2(num, i):\n",
    "    mask = 1 << i\n",
    "    comp = num & mask\n",
    "    if comp > 0:\n",
    "        return 1\n",
    "    else:\n",
    "        return 0\n",
    "\n",
    "print(bin(18))\n",
    "print(ith2(18, 2))\n",
    "print(ith2(18, 1))\n",
    "print(ith2(18, 6))"
   ]
  },
  {
   "cell_type": "code",
   "execution_count": 16,
   "id": "ac4c4f21",
   "metadata": {},
   "outputs": [
    {
     "name": "stdout",
     "output_type": "stream",
     "text": [
      "0b10010\n",
      "26\n",
      "0b11010\n"
     ]
    }
   ],
   "source": [
    "#set ith bit to 1\n",
    "\n",
    "def ith3(num, i):\n",
    "    mask = 1 << i\n",
    "    sett = num | mask\n",
    "    return sett\n",
    "\n",
    "print(bin(18))\n",
    "print(ith3(18, 3))\n",
    "print(bin(26))"
   ]
  },
  {
   "cell_type": "code",
   "execution_count": 6,
   "id": "9fbab2a2",
   "metadata": {},
   "outputs": [
    {
     "name": "stdout",
     "output_type": "stream",
     "text": [
      "0b1101\n",
      "9\n",
      "0b1001\n"
     ]
    }
   ],
   "source": [
    "#set ith bit to 0 \n",
    "\n",
    "def ith4(num, i):\n",
    "    mask = 1 << i\n",
    "    mask = ~mask\n",
    "    neww = num & mask\n",
    "    return neww\n",
    "\n",
    "print(bin(13))\n",
    "print(ith4(13,2))\n",
    "print(bin(9))"
   ]
  },
  {
   "cell_type": "code",
   "execution_count": 19,
   "id": "c9f88ef2",
   "metadata": {},
   "outputs": [
    {
     "name": "stdout",
     "output_type": "stream",
     "text": [
      "0b10011\n",
      "19\n",
      "0b10011\n"
     ]
    }
   ],
   "source": [
    "#set ith bit to 0 or 1\n",
    "\n",
    "def ith5(num, i, val):\n",
    "    mask1 = 1 << i\n",
    "    mask1 = ~mask1\n",
    "    res = mask1 & num\n",
    "    mask2 = val << i\n",
    "    res = res | mask2\n",
    "    return res\n",
    "\n",
    "print(bin(19))\n",
    "print(ith5(19,2,0))\n",
    "print(bin(19))"
   ]
  },
  {
   "cell_type": "code",
   "execution_count": 26,
   "id": "7373124f",
   "metadata": {},
   "outputs": [
    {
     "name": "stdout",
     "output_type": "stream",
     "text": [
      "0b1111\n",
      "8\n",
      "0b1000\n"
     ]
    }
   ],
   "source": [
    "# change last i bits to 0\n",
    "\n",
    "def change(num, i):\n",
    "    mask = (~0) << i\n",
    "    num &= mask\n",
    "    return num\n",
    "\n",
    "print(bin(15))\n",
    "print(change(15, 3))\n",
    "print(bin(8))\n"
   ]
  },
  {
   "cell_type": "code",
   "execution_count": 29,
   "id": "d0d4514e",
   "metadata": {},
   "outputs": [
    {
     "name": "stdout",
     "output_type": "stream",
     "text": [
      "0b10000\n",
      "23\n",
      "0b10111\n"
     ]
    }
   ],
   "source": [
    "# change last ith bits to 1\n",
    "\n",
    "def change2(num, i):\n",
    "    mask = (1 << i) - 1\n",
    "    res = num | mask\n",
    "    return res\n",
    "\n",
    "print(bin(16))\n",
    "print(change2(16,3))\n",
    "print(bin(23))"
   ]
  },
  {
   "cell_type": "code",
   "execution_count": 3,
   "id": "369a53d7",
   "metadata": {},
   "outputs": [
    {
     "name": "stdout",
     "output_type": "stream",
     "text": [
      "0b1111\n",
      "9\n",
      "0b1001\n"
     ]
    }
   ],
   "source": [
    "#change bits in range i - j to 0\n",
    "\n",
    "def change3(num, i, j):\n",
    "    mask1 = (~0) << (j+1)\n",
    "    mask2 = (1<<i) - 1\n",
    "    mask = mask1 | mask2\n",
    "    res = num & mask\n",
    "    return res\n",
    "\n",
    "print(bin(15))\n",
    "print(change3(15, 1, 2))\n",
    "print(bin(9))"
   ]
  },
  {
   "cell_type": "code",
   "execution_count": null,
   "id": "7db97ac0",
   "metadata": {},
   "outputs": [],
   "source": []
  }
 ],
 "metadata": {
  "kernelspec": {
   "display_name": "Python 3 (ipykernel)",
   "language": "python",
   "name": "python3"
  },
  "language_info": {
   "codemirror_mode": {
    "name": "ipython",
    "version": 3
   },
   "file_extension": ".py",
   "mimetype": "text/x-python",
   "name": "python",
   "nbconvert_exporter": "python",
   "pygments_lexer": "ipython3",
   "version": "3.9.13"
  }
 },
 "nbformat": 4,
 "nbformat_minor": 5
}
